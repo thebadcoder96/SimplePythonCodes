{
 "cells": [
  {
   "cell_type": "code",
   "execution_count": 31,
   "id": "b1a49928",
   "metadata": {},
   "outputs": [],
   "source": [
    "import praw\n",
    "import time"
   ]
  },
  {
   "cell_type": "code",
   "execution_count": 9,
   "id": "22a2dadf",
   "metadata": {},
   "outputs": [],
   "source": [
    "def authenticate():\n",
    "    print(\"Logining in...\")\n",
    "    reddit = praw.Reddit(\"Bbot\",\n",
    "                        user_agent = \"Catwoman's comment replies v.01\")\n",
    "    print(\"Login successfull as \" + str(reddit.user.me()))\n",
    "    return reddit"
   ]
  },
  {
   "cell_type": "code",
   "execution_count": 48,
   "id": "f30d6cb3",
   "metadata": {},
   "outputs": [],
   "source": [
    "def replybot(reddit, comments_list):\n",
    "    print(\"Geting 30 comments\")\n",
    "   \n",
    "    for comment in reddit.subreddit(\"test\").comments(limit=30) :\n",
    "        if \"catwoman\" in comment.body and comment.id not in comments_list and comment.author != reddit.user.me():\n",
    "            print(\"Comment found: \" + comment.body)\n",
    "            comment.reply(message)\n",
    "            print(\"Successfully replied\")\n",
    "            comments_list.append(comment.id)\n",
    "            \n",
    "            with open(\"commentsreplylist.txt\",\"a\") as f:\n",
    "                f.write(comment.id + '\\n')\n",
    "        \n",
    "    print(\"Sleeping for 10 seconds\")        \n",
    "    time.sleep(10)"
   ]
  },
  {
   "cell_type": "code",
   "execution_count": 10,
   "id": "5645c8cb",
   "metadata": {},
   "outputs": [
    {
     "name": "stdout",
     "output_type": "stream",
     "text": [
      "Logining in...\n",
      "Login successfull as batman_bot\n"
     ]
    }
   ],
   "source": [
    "reddit = authenticate()"
   ]
  },
  {
   "cell_type": "code",
   "execution_count": null,
   "id": "653aea8d",
   "metadata": {
    "scrolled": true
   },
   "outputs": [],
   "source": [
    "message=\"Batman [don't do that!!](https://media3.giphy.com/media/yyhJaoPDhCbBu/giphy.gif?cid=ecf05e47jdk9fabggr6zdmk52c61vfao2u3huw9jrfnwlhjl&rid=giphy.gif&ct=g) Do you even know where that kitty has been?\"\n",
    "with open(\"commentsreplylist.txt\",\"r\") as f:\n",
    "    comments_list= f.read().split('\\n')\n",
    "    comments_list= list(filter(None, comments_list))\n",
    "    \n",
    "while True:\n",
    "    replybot(reddit, comments_list)"
   ]
  },
  {
   "cell_type": "code",
   "execution_count": 40,
   "id": "0434e067",
   "metadata": {},
   "outputs": [],
   "source": []
  },
  {
   "cell_type": "code",
   "execution_count": null,
   "id": "0e4c411e",
   "metadata": {},
   "outputs": [],
   "source": []
  }
 ],
 "metadata": {
  "kernelspec": {
   "display_name": "Python 3 (ipykernel)",
   "language": "python",
   "name": "python3"
  },
  "language_info": {
   "codemirror_mode": {
    "name": "ipython",
    "version": 3
   },
   "file_extension": ".py",
   "mimetype": "text/x-python",
   "name": "python",
   "nbconvert_exporter": "python",
   "pygments_lexer": "ipython3",
   "version": "3.9.6"
  }
 },
 "nbformat": 4,
 "nbformat_minor": 5
}
