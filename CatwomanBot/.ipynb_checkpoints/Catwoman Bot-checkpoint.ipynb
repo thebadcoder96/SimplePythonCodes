{
 "cells": [
  {
   "cell_type": "code",
   "execution_count": 1,
   "id": "b1a49928",
   "metadata": {},
   "outputs": [],
   "source": [
    "import praw\n",
    "import time"
   ]
  },
  {
   "cell_type": "code",
   "execution_count": 2,
   "id": "22a2dadf",
   "metadata": {},
   "outputs": [],
   "source": [
    "def authenticate():\n",
    "    print(\"Logining in...\")\n",
    "    reddit = praw.Reddit(\"Bbot\",\n",
    "                        user_agent = \"Catwoman's comment replies v.01\")\n",
    "    print(\"Login successfull as \" + str(reddit.user.me()))\n",
    "    return reddit"
   ]
  },
  {
   "cell_type": "code",
   "execution_count": 37,
   "id": "f30d6cb3",
   "metadata": {},
   "outputs": [],
   "source": [
    "def replybot(reddit, comments_list, message):\n",
    "    print(\"Getting comments...\")\n",
    "   \n",
    "    for comment in reddit.subreddit(\"test\").stream.comments(skip_existing=True):\n",
    "        if (\"catwoman\" in comment.body.lower() or \"cat woman\" in comment.body.lower()) and (comment.id not in comments_list) and (comment.author != reddit.user.me()):\n",
    "            print(\"Comment found: \" + comment.body)\n",
    "            comment.reply(message)\n",
    "            print(\"Successfully replied!:) \")\n",
    "            try:\n",
    "                comments_list.append(comment.id)\n",
    "            except Exception as e: print(e)\n",
    "                \n",
    "            #saving commet.id\n",
    "            with open(\"commentsreplylist.txt\",\"a\") as f:\n",
    "                f.write(comment.id + '\\n')\n",
    "            \n",
    "            print(\"Sleeping for 3 seconds...\")        \n",
    "            time.sleep(3)"
   ]
  },
  {
   "cell_type": "code",
   "execution_count": null,
   "id": "653aea8d",
   "metadata": {
    "scrolled": true
   },
   "outputs": [
    {
     "name": "stdout",
     "output_type": "stream",
     "text": [
      "Logining in...\n",
      "Login successfull as batman_bot\n",
      "Getting comments...\n",
      "Comment found: oh no cat woman dont do that\n",
      "Successfully replied!:) \n",
      "Sleeping for 5 seconds...\n",
      "Comment found: Holy shit CatWoman asddas1231easc;;'d'a;sd.as'd,\n",
      "Successfully replied!:) \n",
      "Sleeping for 5 seconds...\n"
     ]
    }
   ],
   "source": [
    "def main():\n",
    "    message = (\"Batman [don't do that!!]\"\n",
    "    \"(https://media3.giphy.com/media/yyhJaoPDhCbBu/giphy.gif?cid=ecf05e47jdk9fabggr6zdmk52c61vfao2u3huw9jrfnwlhjl&rid=giphy.gif&ct=g) \"\n",
    "    \"Do you even know where that kitty has been?\\n\\n\"\n",
    "               \"^beep ^boop! ^I ^am ^a ^bot ^that ^replies ^to ^the ^word ^***Catwoman***!  ^Find ^out ^more [^about ^me ^here!](https://www.reddit.com/r/u_batman_bot)\")\n",
    "    \n",
    "    \n",
    "    with open(\"commentsreplylist.txt\",\"r\") as f:\n",
    "        comments_list= f.read().split('\\n')\n",
    "        comments_list= list(filter(None, comments_list))\n",
    "        \n",
    "    \n",
    "    reddit = authenticate()\n",
    "    replybot(reddit, comments_list, message)\n",
    "    \n",
    "if __name__ == '__main__': main()"
   ]
  }
 ],
 "metadata": {
  "kernelspec": {
   "display_name": "Python 3",
   "language": "python",
   "name": "python3"
  },
  "language_info": {
   "codemirror_mode": {
    "name": "ipython",
    "version": 3
   },
   "file_extension": ".py",
   "mimetype": "text/x-python",
   "name": "python",
   "nbconvert_exporter": "python",
   "pygments_lexer": "ipython3",
   "version": "3.9.5"
  }
 },
 "nbformat": 4,
 "nbformat_minor": 5
}
